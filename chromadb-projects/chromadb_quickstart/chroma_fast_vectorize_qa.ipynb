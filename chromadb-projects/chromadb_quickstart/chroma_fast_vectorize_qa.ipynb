{
 "cells": [
  {
   "cell_type": "code",
   "execution_count": 3,
   "metadata": {},
   "outputs": [
    {
     "ename": "ValueError",
     "evalue": "The sentence_transformers python package is not installed. Please install it with `pip install sentence_transformers`",
     "output_type": "error",
     "traceback": [
      "\u001b[1;31m---------------------------------------------------------------------------\u001b[0m",
      "\u001b[1;31mModuleNotFoundError\u001b[0m                       Traceback (most recent call last)",
      "File \u001b[1;32mc:\\Users\\DELL\\miniconda3\\Lib\\site-packages\\chromadb\\utils\\embedding_functions\\sentence_transformer_embedding_function.py:32\u001b[0m, in \u001b[0;36mSentenceTransformerEmbeddingFunction.__init__\u001b[1;34m(self, model_name, device, normalize_embeddings, **kwargs)\u001b[0m\n\u001b[0;32m     31\u001b[0m \u001b[38;5;28;01mtry\u001b[39;00m:\n\u001b[1;32m---> 32\u001b[0m     \u001b[38;5;28;01mfrom\u001b[39;00m \u001b[38;5;21;01msentence_transformers\u001b[39;00m \u001b[38;5;28;01mimport\u001b[39;00m SentenceTransformer\n\u001b[0;32m     33\u001b[0m \u001b[38;5;28;01mexcept\u001b[39;00m \u001b[38;5;167;01mImportError\u001b[39;00m:\n",
      "\u001b[1;31mModuleNotFoundError\u001b[0m: No module named 'sentence_transformers'",
      "\nDuring handling of the above exception, another exception occurred:\n",
      "\u001b[1;31mValueError\u001b[0m                                Traceback (most recent call last)",
      "Cell \u001b[1;32mIn[3], line 8\u001b[0m\n\u001b[0;32m      4\u001b[0m chroma_client \u001b[38;5;241m=\u001b[39m chromadb\u001b[38;5;241m.\u001b[39mPersistentClient(path\u001b[38;5;241m=\u001b[39m\u001b[38;5;124m\"\u001b[39m\u001b[38;5;124mmy_vectordb\u001b[39m\u001b[38;5;124m\"\u001b[39m)\n\u001b[0;32m      6\u001b[0m \u001b[38;5;66;03m# Select the embedding model to use.\u001b[39;00m\n\u001b[0;32m      7\u001b[0m \u001b[38;5;66;03m# List of model names can be found here https://www.sbert.net/docs/pretrained_models.html\u001b[39;00m\n\u001b[1;32m----> 8\u001b[0m sentence_transformer_ef \u001b[38;5;241m=\u001b[39m \u001b[43membedding_functions\u001b[49m\u001b[38;5;241;43m.\u001b[39;49m\u001b[43mSentenceTransformerEmbeddingFunction\u001b[49m\u001b[43m(\u001b[49m\u001b[43mmodel_name\u001b[49m\u001b[38;5;241;43m=\u001b[39;49m\u001b[38;5;124;43m\"\u001b[39;49m\u001b[38;5;124;43mall-mpnet-base-v2\u001b[39;49m\u001b[38;5;124;43m\"\u001b[39;49m\u001b[43m)\u001b[49m\n\u001b[0;32m     10\u001b[0m \u001b[38;5;66;03m# Create the collection, aka vector database. Or, if database already exist, then use it. Specify the model that we want to use to do the embedding.\u001b[39;00m\n\u001b[0;32m     11\u001b[0m collection \u001b[38;5;241m=\u001b[39m chroma_client\u001b[38;5;241m.\u001b[39mget_collection(name\u001b[38;5;241m=\u001b[39m\u001b[38;5;124m\"\u001b[39m\u001b[38;5;124mgot\u001b[39m\u001b[38;5;124m\"\u001b[39m, embedding_function\u001b[38;5;241m=\u001b[39msentence_transformer_ef)\n",
      "File \u001b[1;32mc:\\Users\\DELL\\miniconda3\\Lib\\site-packages\\chromadb\\utils\\embedding_functions\\sentence_transformer_embedding_function.py:34\u001b[0m, in \u001b[0;36mSentenceTransformerEmbeddingFunction.__init__\u001b[1;34m(self, model_name, device, normalize_embeddings, **kwargs)\u001b[0m\n\u001b[0;32m     32\u001b[0m         \u001b[38;5;28;01mfrom\u001b[39;00m \u001b[38;5;21;01msentence_transformers\u001b[39;00m \u001b[38;5;28;01mimport\u001b[39;00m SentenceTransformer\n\u001b[0;32m     33\u001b[0m     \u001b[38;5;28;01mexcept\u001b[39;00m \u001b[38;5;167;01mImportError\u001b[39;00m:\n\u001b[1;32m---> 34\u001b[0m         \u001b[38;5;28;01mraise\u001b[39;00m \u001b[38;5;167;01mValueError\u001b[39;00m(\n\u001b[0;32m     35\u001b[0m             \u001b[38;5;124m\"\u001b[39m\u001b[38;5;124mThe sentence_transformers python package is not installed. Please install it with `pip install sentence_transformers`\u001b[39m\u001b[38;5;124m\"\u001b[39m\n\u001b[0;32m     36\u001b[0m         )\n\u001b[0;32m     37\u001b[0m     \u001b[38;5;28mself\u001b[39m\u001b[38;5;241m.\u001b[39mmodels[model_name] \u001b[38;5;241m=\u001b[39m SentenceTransformer(\n\u001b[0;32m     38\u001b[0m         model_name, device\u001b[38;5;241m=\u001b[39mdevice, \u001b[38;5;241m*\u001b[39m\u001b[38;5;241m*\u001b[39mkwargs\n\u001b[0;32m     39\u001b[0m     )\n\u001b[0;32m     40\u001b[0m \u001b[38;5;28mself\u001b[39m\u001b[38;5;241m.\u001b[39m_model \u001b[38;5;241m=\u001b[39m \u001b[38;5;28mself\u001b[39m\u001b[38;5;241m.\u001b[39mmodels[model_name]\n",
      "\u001b[1;31mValueError\u001b[0m: The sentence_transformers python package is not installed. Please install it with `pip install sentence_transformers`"
     ]
    }
   ],
   "source": [
    "import chromadb\n",
    "from chromadb.utils import embedding_functions\n",
    "\n",
    "chroma_client = chromadb.PersistentClient(path=\"my_vectordb\")\n",
    "\n",
    "# Select the embedding model to use.\n",
    "# List of model names can be found here https://www.sbert.net/docs/pretrained_models.html\n",
    "sentence_transformer_ef = embedding_functions.SentenceTransformerEmbeddingFunction(model_name=\"all-mpnet-base-v2\")\n",
    "\n",
    "# Create the collection, aka vector database. Or, if database already exist, then use it. Specify the model that we want to use to do the embedding.\n",
    "collection = chroma_client.get_collection(name=\"got\", embedding_function=sentence_transformer_ef)"
   ]
  },
  {
   "cell_type": "code",
   "execution_count": 4,
   "metadata": {},
   "outputs": [
    {
     "name": "stdout",
     "output_type": "stream",
     "text": [
      "19699 0.331 In season \"season-04\", episode \"e9-The Watchers on the Wall\", YGRITTE said, \" You know nothing, Jon Snow.\"\n",
      "8373 0.344 In season \"season-02\", episode \"e7-A Man Without Honor\", YGRITTE said, \" You know nothing, Jon Snow.\"\n",
      "10755 0.346 In season \"season-03\", episode \"e10-Mhysa\", YGRITTE said, \" You know nothing, Jon Snow.\"\n",
      "13633 0.348 In season \"season-03\", episode \"e7-The Bear and the Maiden Fair\", YGRITTE said, \" You know nothing, Jon Snow.\"\n",
      "8479 0.441 In season \"season-02\", episode \"e7-A Man Without Honor\", YGRITTE said, \" \"And I thought that we were done, but he said, \"'Turn back around.\" I'll tell you what, Jon Snow. Since it's gonna be your word against mine, and since you can't talk about it without blushing, we may as well just JON: What, right here in the muck?\"\n",
      "14046 0.482 In season \"season-03\", episode \"e7-The Bear and the Maiden Fair\", YGRITTE said, \" You know nothing--\"\n",
      "13619 0.488 In season \"season-03\", episode \"e7-The Bear and the Maiden Fair\", YGRITTE said, \" You think? You don't know?\"\n",
      "13347 0.495 In season \"season-03\", episode \"e6-The Climb\", YGRITTE said, \" You staring at my ass, Jon Snow?\"\n",
      "14052 0.501 In season \"season-03\", episode \"e7-The Bear and the Maiden Fair\", YGRITTE said, \" You don't know that.\"\n",
      "13260 0.537 In season \"season-03\", episode \"e6-The Climb\", YGRITTE said, \" Only in the beginning. You're a proper lover, Jon Snow. And don't worry. Your secret's safe with me.\"\n"
     ]
    }
   ],
   "source": [
    "results = collection.query(\n",
    "    query_texts=[\"Ygritte repeatedly said Jon Snow knows what?\"],\n",
    "    n_results=10,\n",
    "    include=['documents', 'distances', 'metadatas'],\n",
    "    #where={'speaker':'YGRITTE'}\n",
    ")\n",
    "\n",
    "for j in range(len(results['ids'][0])):\n",
    "    id       = results[\"ids\"][0][j]\n",
    "    distance = results['distances'][0][j]\n",
    "    document = results['documents'][0][j]\n",
    "    metadata = results['metadatas'][0][j]\n",
    "    print(f'{id} {distance:.3f} {document}') "
   ]
  }
 ],
 "metadata": {
  "kernelspec": {
   "display_name": "base",
   "language": "python",
   "name": "python3"
  },
  "language_info": {
   "codemirror_mode": {
    "name": "ipython",
    "version": 3
   },
   "file_extension": ".py",
   "mimetype": "text/x-python",
   "name": "python",
   "nbconvert_exporter": "python",
   "pygments_lexer": "ipython3",
   "version": "3.12.8"
  }
 },
 "nbformat": 4,
 "nbformat_minor": 2
}
